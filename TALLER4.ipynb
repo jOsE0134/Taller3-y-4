{
  "nbformat": 4,
  "nbformat_minor": 0,
  "metadata": {
    "colab": {
      "provenance": [],
      "authorship_tag": "ABX9TyMPMdVQEykJ75y3oYTOFcdh",
      "include_colab_link": true
    },
    "kernelspec": {
      "name": "python3",
      "display_name": "Python 3"
    },
    "language_info": {
      "name": "python"
    }
  },
  "cells": [
    {
      "cell_type": "markdown",
      "metadata": {
        "id": "view-in-github",
        "colab_type": "text"
      },
      "source": [
        "<a href=\"https://colab.research.google.com/github/jOsE0134/Taller3-y-4/blob/main/TALLER4.ipynb\" target=\"_parent\"><img src=\"https://colab.research.google.com/assets/colab-badge.svg\" alt=\"Open In Colab\"/></a>"
      ]
    },
    {
      "cell_type": "code",
      "execution_count": 9,
      "metadata": {
        "colab": {
          "base_uri": "https://localhost:8080/"
        },
        "id": "4r8pWVPix_ut",
        "outputId": "4c23c916-79b1-40d2-9d17-d39326608765"
      },
      "outputs": [
        {
          "output_type": "stream",
          "name": "stdout",
          "text": [
            "Documentos que contienen la palabra: son\n",
            "Los perros son animales leales\n",
            "Los gatos son conocidos por su independencia\n",
            "Los perros y los gatos son mascotas populares\n",
            "En un estudio reciente, se demostró que los perros son buenos compañeros para las personas mayores\n",
            "Los gatos son excelentes cazadores de roedores\n",
            "Los perros son muy diversos en cuanto a razas y tamaños\n",
            "Los gatos son muy ágiles y pueden saltar a alturas impresionantes\n",
            "Los gatos son conocidos por su limpieza y se asean regularmente\n"
          ]
        }
      ],
      "source": [
        "def buscar_palabra_en_documentos(palabra_a_buscar, lista_de_documentos):\n",
        "    documentos_con_palabra = []\n",
        "\n",
        "    for documento in lista_de_documentos:\n",
        "        palabras = documento.split()\n",
        "\n",
        "        if palabra_a_buscar in palabras:\n",
        "            documentos_con_palabra.append(documento)\n",
        "\n",
        "    return documentos_con_palabra\n",
        "\n",
        "# Base de datos\n",
        "documentos = [\n",
        "    \"Este es un ejemplo de documento que contiene la palabra perro\",\n",
        "    \"La palabra gato aparece en este documento\",\n",
        "    \"No hay ninguna palabra relevante en este documento\"\n",
        "    \"Este es un ejemplo de documento que contiene la palabra perro\",\n",
        "    \"La palabra gato aparece en este documento\",\n",
        "    \"No hay ninguna palabra relevante en este documento\",\n",
        "    \"Los perros son animales leales\",\n",
        "    \"Los gatos son conocidos por su independencia\",\n",
        "    \"Los perros y los gatos son mascotas populares\",\n",
        "    \"En un estudio reciente, se demostró que los perros son buenos compañeros para las personas mayores\",\n",
        "    \"Los gatos pueden ser bastante reservados en su comportamiento\",\n",
        "    \"Algunas personas prefieren tener perros como mascotas, mientras que otras prefieren gatos\",\n",
        "    \"Los perros necesitan ejercicio regular para mantenerse saludables\",\n",
        "    \"Los gatos son excelentes cazadores de roedores\",\n",
        "    \"Los perros son muy diversos en cuanto a razas y tamaños\",\n",
        "    \"Los gatos suelen ser más independientes y requieren menos atención que los perros\",\n",
        "    \"El perro es considerado el mejor amigo del hombre\",\n",
        "    \"La domesticación de los perros se remonta a miles de años atrás\",\n",
        "    \"Los gatos son muy ágiles y pueden saltar a alturas impresionantes\",\n",
        "    \"Los perros pueden ser entrenados para realizar una variedad de trucos y tareas\",\n",
        "    \"Los gatos son conocidos por su limpieza y se asean regularmente\",\n",
        "    \"La adopción de perros y gatos es una práctica común en los refugios de animales\",\n",
        "    \"Los perros de terapia brindan consuelo a personas en hospitales y hogares de cuidado\",\n",
        "    \"Los gatos a veces muestran un comportamiento territorial y pueden marcar su territorio con orina\"\n",
        "]\n",
        "\n",
        "palabra_buscada = \"son\"\n",
        "resultados = buscar_palabra_en_documentos(palabra_buscada, documentos)\n",
        "\n",
        "print(\"Documentos que contienen la palabra:\", palabra_buscada)\n",
        "for resultado in resultados:\n",
        "    print(resultado)"
      ]
    }
  ]
}